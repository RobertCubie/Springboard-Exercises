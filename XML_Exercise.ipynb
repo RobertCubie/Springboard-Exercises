{
 "cells": [
  {
   "cell_type": "markdown",
   "metadata": {},
   "source": [
    "# XML / Mondial Exercise\n",
    "## 1) Find the 10 countries with the lowest infant mortality rates"
   ]
  },
  {
   "cell_type": "code",
   "execution_count": 1,
   "metadata": {
    "collapsed": true
   },
   "outputs": [],
   "source": [
    "import pandas as pd\n",
    "import numpy as np\n",
    "from lxml import etree"
   ]
  },
  {
   "cell_type": "code",
   "execution_count": 2,
   "metadata": {
    "collapsed": true
   },
   "outputs": [],
   "source": [
    "document = etree.parse( './data/mondial_database.xml' )\n",
    "document = document.getroot()"
   ]
  },
  {
   "cell_type": "code",
   "execution_count": 3,
   "metadata": {
    "collapsed": true
   },
   "outputs": [],
   "source": [
    "#iterate through each country to create dictionary for each country name (key) and corresponding infant mortality rate (value)\n",
    "countries = []\n",
    "mortality_rates = []\n",
    "\n",
    "morts = document.findall('./country/infant_mortality')\n",
    "for mort in morts:\n",
    "    mortality_rates.append(float(mort.text))\n",
    "    #using iterancestors to work backwards from 'infant_mortality' ensures there are no Nil values\n",
    "    for country in mort.iterancestors('country'):\n",
    "        countries.append(country.find('name').text)"
   ]
  },
  {
   "cell_type": "code",
   "execution_count": 4,
   "metadata": {
    "collapsed": false
   },
   "outputs": [],
   "source": [
    "#read dictionary into Pandas dataframe for manipulation\n",
    "df = pd.DataFrame({'countries': countries, 'mortality_rates': mortality_rates})"
   ]
  },
  {
   "cell_type": "code",
   "execution_count": 5,
   "metadata": {
    "collapsed": false
   },
   "outputs": [],
   "source": [
    "#sort\n",
    "df = df.sort_values('mortality_rates')"
   ]
  },
  {
   "cell_type": "code",
   "execution_count": 6,
   "metadata": {
    "collapsed": false
   },
   "outputs": [
    {
     "data": {
      "text/html": [
       "<div>\n",
       "<table border=\"1\" class=\"dataframe\">\n",
       "  <thead>\n",
       "    <tr style=\"text-align: right;\">\n",
       "      <th></th>\n",
       "      <th>countries</th>\n",
       "      <th>mortality_rates</th>\n",
       "    </tr>\n",
       "  </thead>\n",
       "  <tbody>\n",
       "    <tr>\n",
       "      <th>36</th>\n",
       "      <td>Monaco</td>\n",
       "      <td>1.81</td>\n",
       "    </tr>\n",
       "    <tr>\n",
       "      <th>90</th>\n",
       "      <td>Japan</td>\n",
       "      <td>2.13</td>\n",
       "    </tr>\n",
       "    <tr>\n",
       "      <th>109</th>\n",
       "      <td>Bermuda</td>\n",
       "      <td>2.48</td>\n",
       "    </tr>\n",
       "    <tr>\n",
       "      <th>34</th>\n",
       "      <td>Norway</td>\n",
       "      <td>2.48</td>\n",
       "    </tr>\n",
       "    <tr>\n",
       "      <th>98</th>\n",
       "      <td>Singapore</td>\n",
       "      <td>2.53</td>\n",
       "    </tr>\n",
       "    <tr>\n",
       "      <th>35</th>\n",
       "      <td>Sweden</td>\n",
       "      <td>2.60</td>\n",
       "    </tr>\n",
       "    <tr>\n",
       "      <th>8</th>\n",
       "      <td>Czech Republic</td>\n",
       "      <td>2.63</td>\n",
       "    </tr>\n",
       "    <tr>\n",
       "      <th>72</th>\n",
       "      <td>Hong Kong</td>\n",
       "      <td>2.73</td>\n",
       "    </tr>\n",
       "    <tr>\n",
       "      <th>73</th>\n",
       "      <td>Macao</td>\n",
       "      <td>3.13</td>\n",
       "    </tr>\n",
       "    <tr>\n",
       "      <th>39</th>\n",
       "      <td>Iceland</td>\n",
       "      <td>3.15</td>\n",
       "    </tr>\n",
       "  </tbody>\n",
       "</table>\n",
       "</div>"
      ],
      "text/plain": [
       "          countries  mortality_rates\n",
       "36           Monaco             1.81\n",
       "90            Japan             2.13\n",
       "109         Bermuda             2.48\n",
       "34           Norway             2.48\n",
       "98        Singapore             2.53\n",
       "35           Sweden             2.60\n",
       "8    Czech Republic             2.63\n",
       "72        Hong Kong             2.73\n",
       "73            Macao             3.13\n",
       "39          Iceland             3.15"
      ]
     },
     "execution_count": 6,
     "metadata": {},
     "output_type": "execute_result"
    }
   ],
   "source": [
    "#get top 10\n",
    "df.head(10)"
   ]
  },
  {
   "cell_type": "markdown",
   "metadata": {},
   "source": [
    "## 2) Find the 10 cities with the largest population"
   ]
  },
  {
   "cell_type": "code",
   "execution_count": 7,
   "metadata": {
    "collapsed": false
   },
   "outputs": [],
   "source": [
    "cities = []\n",
    "populations = []\n",
    "\n",
    "#use Xpath positional argument to ensure that population is the most recent census\n",
    "pops = document.findall('./country/city/population[last()]')\n",
    "for pop in pops:\n",
    "    populations.append(int(pop.text))\n",
    "    #use lxml iterancestors to work backwards and only include cities with population counts\n",
    "    for city in pop.iterancestors('city'):\n",
    "        cities.append((city.find('name').text))"
   ]
  },
  {
   "cell_type": "code",
   "execution_count": 8,
   "metadata": {
    "collapsed": true
   },
   "outputs": [],
   "source": [
    "#as before, read dictionary into Pandas dataframe\n",
    "df = pd.DataFrame({'city': cities, 'population': populations})"
   ]
  },
  {
   "cell_type": "code",
   "execution_count": 9,
   "metadata": {
    "collapsed": true
   },
   "outputs": [],
   "source": [
    "#sort\n",
    "df = df.sort_values('population', ascending = False)"
   ]
  },
  {
   "cell_type": "code",
   "execution_count": 10,
   "metadata": {
    "collapsed": false
   },
   "outputs": [
    {
     "data": {
      "text/html": [
       "<div>\n",
       "<table border=\"1\" class=\"dataframe\">\n",
       "  <thead>\n",
       "    <tr style=\"text-align: right;\">\n",
       "      <th></th>\n",
       "      <th>city</th>\n",
       "      <th>population</th>\n",
       "    </tr>\n",
       "  </thead>\n",
       "  <tbody>\n",
       "    <tr>\n",
       "      <th>165</th>\n",
       "      <td>Seoul</td>\n",
       "      <td>9708483</td>\n",
       "    </tr>\n",
       "    <tr>\n",
       "      <th>154</th>\n",
       "      <td>Al Qahirah</td>\n",
       "      <td>8471859</td>\n",
       "    </tr>\n",
       "    <tr>\n",
       "      <th>75</th>\n",
       "      <td>Bangkok</td>\n",
       "      <td>7506700</td>\n",
       "    </tr>\n",
       "    <tr>\n",
       "      <th>123</th>\n",
       "      <td>Hong Kong</td>\n",
       "      <td>7055071</td>\n",
       "    </tr>\n",
       "    <tr>\n",
       "      <th>87</th>\n",
       "      <td>Ho Chi Minh</td>\n",
       "      <td>5968384</td>\n",
       "    </tr>\n",
       "    <tr>\n",
       "      <th>201</th>\n",
       "      <td>Singapore</td>\n",
       "      <td>5076700</td>\n",
       "    </tr>\n",
       "    <tr>\n",
       "      <th>153</th>\n",
       "      <td>Al Iskandariyah</td>\n",
       "      <td>4123869</td>\n",
       "    </tr>\n",
       "    <tr>\n",
       "      <th>205</th>\n",
       "      <td>New Taipei</td>\n",
       "      <td>3939305</td>\n",
       "    </tr>\n",
       "    <tr>\n",
       "      <th>166</th>\n",
       "      <td>Busan</td>\n",
       "      <td>3403135</td>\n",
       "    </tr>\n",
       "    <tr>\n",
       "      <th>102</th>\n",
       "      <td>Pyongyang</td>\n",
       "      <td>3255288</td>\n",
       "    </tr>\n",
       "  </tbody>\n",
       "</table>\n",
       "</div>"
      ],
      "text/plain": [
       "                city  population\n",
       "165            Seoul     9708483\n",
       "154       Al Qahirah     8471859\n",
       "75           Bangkok     7506700\n",
       "123        Hong Kong     7055071\n",
       "87       Ho Chi Minh     5968384\n",
       "201        Singapore     5076700\n",
       "153  Al Iskandariyah     4123869\n",
       "205       New Taipei     3939305\n",
       "166            Busan     3403135\n",
       "102        Pyongyang     3255288"
      ]
     },
     "execution_count": 10,
     "metadata": {},
     "output_type": "execute_result"
    }
   ],
   "source": [
    "#get the top 10\n",
    "df.head(10)"
   ]
  },
  {
   "cell_type": "markdown",
   "metadata": {},
   "source": [
    "## 3) Find the 10 ethnic groups with largest overall populations"
   ]
  },
  {
   "cell_type": "code",
   "execution_count": 11,
   "metadata": {
    "collapsed": true
   },
   "outputs": [],
   "source": [
    "#create lists for name of each ethnic group, the percentage each group is of each countries' population, and the size of that population\n",
    "populations = []\n",
    "ethnic_groups = []\n",
    "percentages = []\n",
    "\n",
    "for country in document.findall('country'):\n",
    "    pops = country.findall('./population[last()]')\n",
    "    groups = country.findall('ethnicgroup')\n",
    "    for pop in pops:\n",
    "        for group in groups:\n",
    "            populations.append(int(pop.text))\n",
    "            ethnic_groups.append(group.text), \n",
    "            percentages.append(float(group.get('percentage')))"
   ]
  },
  {
   "cell_type": "code",
   "execution_count": 12,
   "metadata": {
    "collapsed": false
   },
   "outputs": [],
   "source": [
    "#dataframe for manipulation\n",
    "df = pd.DataFrame({'population': populations, 'group': ethnic_groups, 'percentage': percentages})"
   ]
  },
  {
   "cell_type": "code",
   "execution_count": 13,
   "metadata": {
    "collapsed": false
   },
   "outputs": [],
   "source": [
    "#create new column to give size of ethnic group population in each country\n",
    "df['ethnic population'] = ((df['percentage'] / 100) * df['population'])"
   ]
  },
  {
   "cell_type": "code",
   "execution_count": 14,
   "metadata": {
    "collapsed": true
   },
   "outputs": [],
   "source": [
    "#remove now unecessary columns\n",
    "del df['percentage']\n",
    "del df['population']"
   ]
  },
  {
   "cell_type": "code",
   "execution_count": 15,
   "metadata": {
    "collapsed": false
   },
   "outputs": [],
   "source": [
    "#group the data by ethnic groups\n",
    "df = df.astype({'ethnic population': int})\n",
    "df = df.groupby(df['group']).sum()"
   ]
  },
  {
   "cell_type": "code",
   "execution_count": 16,
   "metadata": {
    "collapsed": false
   },
   "outputs": [
    {
     "data": {
      "text/html": [
       "<div>\n",
       "<table border=\"1\" class=\"dataframe\">\n",
       "  <thead>\n",
       "    <tr style=\"text-align: right;\">\n",
       "      <th></th>\n",
       "      <th>ethnic population</th>\n",
       "    </tr>\n",
       "    <tr>\n",
       "      <th>group</th>\n",
       "      <th></th>\n",
       "    </tr>\n",
       "  </thead>\n",
       "  <tbody>\n",
       "    <tr>\n",
       "      <th>Han Chinese</th>\n",
       "      <td>1245058800</td>\n",
       "    </tr>\n",
       "    <tr>\n",
       "      <th>Indo-Aryan</th>\n",
       "      <td>871815583</td>\n",
       "    </tr>\n",
       "    <tr>\n",
       "      <th>European</th>\n",
       "      <td>494872201</td>\n",
       "    </tr>\n",
       "    <tr>\n",
       "      <th>African</th>\n",
       "      <td>318325104</td>\n",
       "    </tr>\n",
       "    <tr>\n",
       "      <th>Dravidian</th>\n",
       "      <td>302713744</td>\n",
       "    </tr>\n",
       "    <tr>\n",
       "      <th>Mestizo</th>\n",
       "      <td>157734349</td>\n",
       "    </tr>\n",
       "    <tr>\n",
       "      <th>Bengali</th>\n",
       "      <td>146776916</td>\n",
       "    </tr>\n",
       "    <tr>\n",
       "      <th>Russian</th>\n",
       "      <td>131856989</td>\n",
       "    </tr>\n",
       "    <tr>\n",
       "      <th>Japanese</th>\n",
       "      <td>126534212</td>\n",
       "    </tr>\n",
       "    <tr>\n",
       "      <th>Malay</th>\n",
       "      <td>121993548</td>\n",
       "    </tr>\n",
       "  </tbody>\n",
       "</table>\n",
       "</div>"
      ],
      "text/plain": [
       "             ethnic population\n",
       "group                         \n",
       "Han Chinese         1245058800\n",
       "Indo-Aryan           871815583\n",
       "European             494872201\n",
       "African              318325104\n",
       "Dravidian            302713744\n",
       "Mestizo              157734349\n",
       "Bengali              146776916\n",
       "Russian              131856989\n",
       "Japanese             126534212\n",
       "Malay                121993548"
      ]
     },
     "execution_count": 16,
     "metadata": {},
     "output_type": "execute_result"
    }
   ],
   "source": [
    "#get the top 10\n",
    "df.sort_values('ethnic population', ascending = False).head(10)"
   ]
  },
  {
   "cell_type": "markdown",
   "metadata": {
    "collapsed": true
   },
   "source": [
    "## 4) Find the name and country of:\n",
    "### a) the longest river"
   ]
  },
  {
   "cell_type": "code",
   "execution_count": 17,
   "metadata": {
    "collapsed": true
   },
   "outputs": [],
   "source": [
    "#for 'river', 'lake' and 'airport', I first checked available tags for query with .iterchildren() on each"
   ]
  },
  {
   "cell_type": "code",
   "execution_count": 18,
   "metadata": {
    "collapsed": true
   },
   "outputs": [],
   "source": [
    "#work backwards from length through use of iterancestors to ensure only rivers with length value are included\n",
    "lengths = document.findall('./river/length')"
   ]
  },
  {
   "cell_type": "code",
   "execution_count": 19,
   "metadata": {
    "collapsed": true
   },
   "outputs": [],
   "source": [
    "country_names = []\n",
    "river_names = []\n",
    "river_lengths = []\n",
    "\n",
    "for length in lengths:\n",
    "    for river in length.iterancestors('river'):\n",
    "        co_code = river.get('country') #this attribute is a country code or multiple codes\n",
    "        multi_co_code = co_code.split() #where there are multiple codes,each country needs individual river entity\n",
    "        \n",
    "        for code in multi_co_code:\n",
    "            for country in document.findall('country'):\n",
    "                car_code = country.get('car_code')\n",
    "                \n",
    "                if car_code == code:\n",
    "                    country_names.append(country.find('name').text)\n",
    "                    river_names.append(river.find('name').text)\n",
    "                    river_lengths.append(float((river.find('length').text)))"
   ]
  },
  {
   "cell_type": "code",
   "execution_count": 20,
   "metadata": {
    "collapsed": false
   },
   "outputs": [
    {
     "data": {
      "text/html": [
       "<div>\n",
       "<table border=\"1\" class=\"dataframe\">\n",
       "  <thead>\n",
       "    <tr style=\"text-align: right;\">\n",
       "      <th></th>\n",
       "      <th>country</th>\n",
       "      <th>river length</th>\n",
       "      <th>river name</th>\n",
       "    </tr>\n",
       "  </thead>\n",
       "  <tbody>\n",
       "    <tr>\n",
       "      <th>0</th>\n",
       "      <td>Iceland</td>\n",
       "      <td>230.0</td>\n",
       "      <td>Thjorsa</td>\n",
       "    </tr>\n",
       "    <tr>\n",
       "      <th>1</th>\n",
       "      <td>Iceland</td>\n",
       "      <td>206.0</td>\n",
       "      <td>Joekulsa a Fjoellum</td>\n",
       "    </tr>\n",
       "    <tr>\n",
       "      <th>2</th>\n",
       "      <td>Norway</td>\n",
       "      <td>604.0</td>\n",
       "      <td>Glomma</td>\n",
       "    </tr>\n",
       "    <tr>\n",
       "      <th>3</th>\n",
       "      <td>Norway</td>\n",
       "      <td>322.0</td>\n",
       "      <td>Lagen</td>\n",
       "    </tr>\n",
       "    <tr>\n",
       "      <th>4</th>\n",
       "      <td>Sweden</td>\n",
       "      <td>93.0</td>\n",
       "      <td>Goetaaelv</td>\n",
       "    </tr>\n",
       "  </tbody>\n",
       "</table>\n",
       "</div>"
      ],
      "text/plain": [
       "   country  river length           river name\n",
       "0  Iceland         230.0              Thjorsa\n",
       "1  Iceland         206.0  Joekulsa a Fjoellum\n",
       "2   Norway         604.0               Glomma\n",
       "3   Norway         322.0                Lagen\n",
       "4   Sweden          93.0            Goetaaelv"
      ]
     },
     "execution_count": 20,
     "metadata": {},
     "output_type": "execute_result"
    }
   ],
   "source": [
    "#read all into Pandas dataframe\n",
    "df = pd.DataFrame({'country': country_names, 'river name': river_names, 'river length': river_lengths})\n",
    "df.head()"
   ]
  },
  {
   "cell_type": "code",
   "execution_count": 21,
   "metadata": {
    "collapsed": true
   },
   "outputs": [],
   "source": [
    "#find the longest river and name of it\n",
    "longest = df.sort_values('river length', ascending = False).head(1)\n",
    "river_name_longest = longest.iloc[0, 2]"
   ]
  },
  {
   "cell_type": "code",
   "execution_count": 22,
   "metadata": {
    "collapsed": false
   },
   "outputs": [
    {
     "data": {
      "text/html": [
       "<div>\n",
       "<table border=\"1\" class=\"dataframe\">\n",
       "  <thead>\n",
       "    <tr style=\"text-align: right;\">\n",
       "      <th></th>\n",
       "      <th>country</th>\n",
       "      <th>river length</th>\n",
       "      <th>river name</th>\n",
       "    </tr>\n",
       "  </thead>\n",
       "  <tbody>\n",
       "    <tr>\n",
       "      <th>298</th>\n",
       "      <td>Colombia</td>\n",
       "      <td>6448.0</td>\n",
       "      <td>Amazonas</td>\n",
       "    </tr>\n",
       "    <tr>\n",
       "      <th>299</th>\n",
       "      <td>Brazil</td>\n",
       "      <td>6448.0</td>\n",
       "      <td>Amazonas</td>\n",
       "    </tr>\n",
       "    <tr>\n",
       "      <th>300</th>\n",
       "      <td>Peru</td>\n",
       "      <td>6448.0</td>\n",
       "      <td>Amazonas</td>\n",
       "    </tr>\n",
       "  </tbody>\n",
       "</table>\n",
       "</div>"
      ],
      "text/plain": [
       "      country  river length river name\n",
       "298  Colombia        6448.0   Amazonas\n",
       "299    Brazil        6448.0   Amazonas\n",
       "300      Peru        6448.0   Amazonas"
      ]
     },
     "execution_count": 22,
     "metadata": {},
     "output_type": "execute_result"
    }
   ],
   "source": [
    "#answer is new dataframe just including countries associated with the name of longest river\n",
    "ans_df = df[df['river name'] == river_name_longest]\n",
    "ans_df"
   ]
  },
  {
   "cell_type": "markdown",
   "metadata": {},
   "source": [
    "### b) the largest lake"
   ]
  },
  {
   "cell_type": "code",
   "execution_count": 23,
   "metadata": {
    "collapsed": true
   },
   "outputs": [],
   "source": [
    "#alteration of variables from River code above"
   ]
  },
  {
   "cell_type": "code",
   "execution_count": 24,
   "metadata": {
    "collapsed": true
   },
   "outputs": [],
   "source": [
    "areas = document.findall('./lake/area')"
   ]
  },
  {
   "cell_type": "code",
   "execution_count": 25,
   "metadata": {
    "collapsed": true
   },
   "outputs": [],
   "source": [
    "country_names = []\n",
    "lake_names = []\n",
    "lake_areas = []\n",
    "\n",
    "for area in areas:\n",
    "    for lake in area.iterancestors('lake'):\n",
    "        co_code = lake.get('country') #this attribute is a country code or multiple codes\n",
    "        multi_co_code = co_code.split() #where there are multiple codes,each country needs individual lake entity\n",
    "        \n",
    "        for code in multi_co_code:\n",
    "            for country in document.findall('country'):\n",
    "                car_code = country.get('car_code')\n",
    "                \n",
    "                if car_code == code:\n",
    "                    country_names.append(country.find('name').text)\n",
    "                    lake_names.append(lake.find('name').text)\n",
    "                    lake_areas.append(float((lake.find('area').text)))"
   ]
  },
  {
   "cell_type": "code",
   "execution_count": 26,
   "metadata": {
    "collapsed": false
   },
   "outputs": [
    {
     "data": {
      "text/html": [
       "<div>\n",
       "<table border=\"1\" class=\"dataframe\">\n",
       "  <thead>\n",
       "    <tr style=\"text-align: right;\">\n",
       "      <th></th>\n",
       "      <th>country</th>\n",
       "      <th>lake area</th>\n",
       "      <th>lake name</th>\n",
       "    </tr>\n",
       "  </thead>\n",
       "  <tbody>\n",
       "    <tr>\n",
       "      <th>0</th>\n",
       "      <td>Finland</td>\n",
       "      <td>1040.0</td>\n",
       "      <td>Inari</td>\n",
       "    </tr>\n",
       "    <tr>\n",
       "      <th>1</th>\n",
       "      <td>Finland</td>\n",
       "      <td>928.0</td>\n",
       "      <td>Oulujaervi</td>\n",
       "    </tr>\n",
       "    <tr>\n",
       "      <th>2</th>\n",
       "      <td>Finland</td>\n",
       "      <td>472.0</td>\n",
       "      <td>Kallavesi</td>\n",
       "    </tr>\n",
       "    <tr>\n",
       "      <th>3</th>\n",
       "      <td>Finland</td>\n",
       "      <td>4370.0</td>\n",
       "      <td>Saimaa</td>\n",
       "    </tr>\n",
       "    <tr>\n",
       "      <th>4</th>\n",
       "      <td>Finland</td>\n",
       "      <td>1118.0</td>\n",
       "      <td>Paeijaenne</td>\n",
       "    </tr>\n",
       "  </tbody>\n",
       "</table>\n",
       "</div>"
      ],
      "text/plain": [
       "   country  lake area   lake name\n",
       "0  Finland     1040.0       Inari\n",
       "1  Finland      928.0  Oulujaervi\n",
       "2  Finland      472.0   Kallavesi\n",
       "3  Finland     4370.0      Saimaa\n",
       "4  Finland     1118.0  Paeijaenne"
      ]
     },
     "execution_count": 26,
     "metadata": {},
     "output_type": "execute_result"
    }
   ],
   "source": [
    "df = pd.DataFrame({'country': country_names, 'lake name': lake_names, 'lake area': lake_areas})\n",
    "df.head()"
   ]
  },
  {
   "cell_type": "code",
   "execution_count": 27,
   "metadata": {
    "collapsed": true
   },
   "outputs": [],
   "source": [
    "largest = df.sort_values('lake area', ascending = False).head(1)\n",
    "lake_name_largest = largest.iloc[0, 2]"
   ]
  },
  {
   "cell_type": "code",
   "execution_count": 28,
   "metadata": {
    "collapsed": false
   },
   "outputs": [
    {
     "data": {
      "text/html": [
       "<div>\n",
       "<table border=\"1\" class=\"dataframe\">\n",
       "  <thead>\n",
       "    <tr style=\"text-align: right;\">\n",
       "      <th></th>\n",
       "      <th>country</th>\n",
       "      <th>lake area</th>\n",
       "      <th>lake name</th>\n",
       "    </tr>\n",
       "  </thead>\n",
       "  <tbody>\n",
       "    <tr>\n",
       "      <th>68</th>\n",
       "      <td>Russia</td>\n",
       "      <td>386400.0</td>\n",
       "      <td>Caspian Sea</td>\n",
       "    </tr>\n",
       "    <tr>\n",
       "      <th>69</th>\n",
       "      <td>Azerbaijan</td>\n",
       "      <td>386400.0</td>\n",
       "      <td>Caspian Sea</td>\n",
       "    </tr>\n",
       "    <tr>\n",
       "      <th>70</th>\n",
       "      <td>Kazakhstan</td>\n",
       "      <td>386400.0</td>\n",
       "      <td>Caspian Sea</td>\n",
       "    </tr>\n",
       "    <tr>\n",
       "      <th>71</th>\n",
       "      <td>Iran</td>\n",
       "      <td>386400.0</td>\n",
       "      <td>Caspian Sea</td>\n",
       "    </tr>\n",
       "    <tr>\n",
       "      <th>72</th>\n",
       "      <td>Turkmenistan</td>\n",
       "      <td>386400.0</td>\n",
       "      <td>Caspian Sea</td>\n",
       "    </tr>\n",
       "  </tbody>\n",
       "</table>\n",
       "</div>"
      ],
      "text/plain": [
       "         country  lake area    lake name\n",
       "68        Russia   386400.0  Caspian Sea\n",
       "69    Azerbaijan   386400.0  Caspian Sea\n",
       "70    Kazakhstan   386400.0  Caspian Sea\n",
       "71          Iran   386400.0  Caspian Sea\n",
       "72  Turkmenistan   386400.0  Caspian Sea"
      ]
     },
     "execution_count": 28,
     "metadata": {},
     "output_type": "execute_result"
    }
   ],
   "source": [
    "ans_df = df[df['lake name'] == lake_name_largest]\n",
    "ans_df"
   ]
  },
  {
   "cell_type": "markdown",
   "metadata": {},
   "source": [
    "### c) the airport at highest elevation"
   ]
  },
  {
   "cell_type": "code",
   "execution_count": 29,
   "metadata": {
    "collapsed": true
   },
   "outputs": [],
   "source": [
    "#abbreviated version of River and Lake code above; no requirement for listing multiple codes/countries"
   ]
  },
  {
   "cell_type": "code",
   "execution_count": 30,
   "metadata": {
    "collapsed": true
   },
   "outputs": [],
   "source": [
    "elevations = document.findall('./airport/elevation')"
   ]
  },
  {
   "cell_type": "code",
   "execution_count": 31,
   "metadata": {
    "collapsed": false
   },
   "outputs": [],
   "source": [
    "country_names = []\n",
    "airport_names = []\n",
    "airport_elevations = []\n",
    "\n",
    "for elevation in elevations:\n",
    "    for airport in elevation.iterancestors('airport'):\n",
    "        co_code = airport.get('country') #this attribute is a country code or multiple codes\n",
    "        multi_co_code = co_code.split() #where there are multiple codes,each country needs individual airport entity\n",
    "        \n",
    "        for code in multi_co_code:\n",
    "            for country in document.findall('country'):\n",
    "                car_code = country.get('car_code')\n",
    "                \n",
    "                if car_code == code:\n",
    "                    country_names.append(country.find('name').text)\n",
    "                    airport_names.append(airport.find('name').text)\n",
    "                    airport_elevations.append((airport.find('elevation').text))"
   ]
  },
  {
   "cell_type": "code",
   "execution_count": 32,
   "metadata": {
    "collapsed": false
   },
   "outputs": [
    {
     "data": {
      "text/html": [
       "<div>\n",
       "<table border=\"1\" class=\"dataframe\">\n",
       "  <thead>\n",
       "    <tr style=\"text-align: right;\">\n",
       "      <th></th>\n",
       "      <th>airport elevation</th>\n",
       "      <th>airport name</th>\n",
       "      <th>country</th>\n",
       "    </tr>\n",
       "  </thead>\n",
       "  <tbody>\n",
       "    <tr>\n",
       "      <th>0</th>\n",
       "      <td>977.0</td>\n",
       "      <td>Herat</td>\n",
       "      <td>Afghanistan</td>\n",
       "    </tr>\n",
       "    <tr>\n",
       "      <th>1</th>\n",
       "      <td>1792.0</td>\n",
       "      <td>Kabul Intl</td>\n",
       "      <td>Afghanistan</td>\n",
       "    </tr>\n",
       "    <tr>\n",
       "      <th>2</th>\n",
       "      <td>38.0</td>\n",
       "      <td>Tirana Rinas</td>\n",
       "      <td>Albania</td>\n",
       "    </tr>\n",
       "    <tr>\n",
       "      <th>3</th>\n",
       "      <td>811.0</td>\n",
       "      <td>Cheikh Larbi Tebessi</td>\n",
       "      <td>Algeria</td>\n",
       "    </tr>\n",
       "    <tr>\n",
       "      <th>4</th>\n",
       "      <td>822.0</td>\n",
       "      <td>Batna Airport</td>\n",
       "      <td>Algeria</td>\n",
       "    </tr>\n",
       "  </tbody>\n",
       "</table>\n",
       "</div>"
      ],
      "text/plain": [
       "   airport elevation          airport name      country\n",
       "0              977.0                 Herat  Afghanistan\n",
       "1             1792.0            Kabul Intl  Afghanistan\n",
       "2               38.0          Tirana Rinas      Albania\n",
       "3              811.0  Cheikh Larbi Tebessi      Algeria\n",
       "4              822.0         Batna Airport      Algeria"
      ]
     },
     "execution_count": 32,
     "metadata": {},
     "output_type": "execute_result"
    }
   ],
   "source": [
    "df = pd.DataFrame({'country': country_names, 'airport name': airport_names, 'airport elevation': airport_elevations})\n",
    "df = df.astype({'airport elevation': float}).dropna()\n",
    "df.head()"
   ]
  },
  {
   "cell_type": "code",
   "execution_count": 33,
   "metadata": {
    "collapsed": false
   },
   "outputs": [],
   "source": [
    "highest = df.sort_values('airport elevation', ascending = False).head(1)\n",
    "airport_name_highest = highest.iloc[0, 1]"
   ]
  },
  {
   "cell_type": "code",
   "execution_count": 34,
   "metadata": {
    "collapsed": false
   },
   "outputs": [
    {
     "data": {
      "text/html": [
       "<div>\n",
       "<table border=\"1\" class=\"dataframe\">\n",
       "  <thead>\n",
       "    <tr style=\"text-align: right;\">\n",
       "      <th></th>\n",
       "      <th>airport elevation</th>\n",
       "      <th>airport name</th>\n",
       "      <th>country</th>\n",
       "    </tr>\n",
       "  </thead>\n",
       "  <tbody>\n",
       "    <tr>\n",
       "      <th>80</th>\n",
       "      <td>4063.0</td>\n",
       "      <td>El Alto Intl</td>\n",
       "      <td>Bolivia</td>\n",
       "    </tr>\n",
       "  </tbody>\n",
       "</table>\n",
       "</div>"
      ],
      "text/plain": [
       "    airport elevation  airport name  country\n",
       "80             4063.0  El Alto Intl  Bolivia"
      ]
     },
     "execution_count": 34,
     "metadata": {},
     "output_type": "execute_result"
    }
   ],
   "source": [
    "ans_df = df[df['airport name'] == airport_name_highest]\n",
    "ans_df"
   ]
  }
 ],
 "metadata": {
  "kernelspec": {
   "display_name": "Python 3",
   "language": "python",
   "name": "python3"
  },
  "language_info": {
   "codemirror_mode": {
    "name": "ipython",
    "version": 3
   },
   "file_extension": ".py",
   "mimetype": "text/x-python",
   "name": "python",
   "nbconvert_exporter": "python",
   "pygments_lexer": "ipython3",
   "version": "3.5.2"
  }
 },
 "nbformat": 4,
 "nbformat_minor": 1
}
